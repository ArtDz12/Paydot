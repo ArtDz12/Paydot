{
  "cells": [
    {
      "cell_type": "markdown",
      "metadata": {
        "id": "view-in-github",
        "colab_type": "text"
      },
      "source": [
        "<a href=\"https://colab.research.google.com/github/ArtDz12/Paydot/blob/main/LSTM_(yang_bener).ipynb\" target=\"_parent\"><img src=\"https://colab.research.google.com/assets/colab-badge.svg\" alt=\"Open In Colab\"/></a>"
      ]
    },
    {
      "cell_type": "markdown",
      "metadata": {
        "id": "TZfy5CrWSiln"
      },
      "source": [
        "**Proses Penginstallan Library**"
      ]
    },
    {
      "cell_type": "code",
      "execution_count": null,
      "metadata": {
        "id": "3cpsvGs9m37J"
      },
      "outputs": [],
      "source": [
        "import math\n",
        "!pip install yfinance\n",
        "import yfinance as yf\n",
        "import numpy as np\n",
        "import pandas as pd\n",
        "from sklearn.preprocessing import MinMaxScaler\n",
        "from tensorflow.keras.models import Sequential\n",
        "import matplotlib.pyplot as plt\n",
        "import matplotlib.dates as mdates\n",
        "import tensorflow as tf\n",
        "from tensorflow import keras\n",
        "from tensorflow.keras import layers\n",
        "from keras.optimizers import SGD\n",
        "from keras.optimizers import RMSprop\n",
        "from keras.optimizers import Adagrad\n",
        "from keras.optimizers import Adam\n",
        "from tensorflow.keras.layers import LSTM, Dense, Dropout\n",
        "import matplotlib.dates as mdates\n",
        "from matplotlib.dates import DateFormatter, YearLocator"
      ]
    },
    {
      "cell_type": "markdown",
      "metadata": {
        "id": "XZER5l6tSu2I"
      },
      "source": [
        "Pengambilan data saham JKSE melalui Yahoo.finance.com dengan *range* waktu 5 tahun **bold text**"
      ]
    },
    {
      "cell_type": "markdown",
      "metadata": {
        "id": "cONb9whVTirk"
      },
      "source": [
        "# Input data"
      ]
    },
    {
      "cell_type": "code",
      "execution_count": null,
      "metadata": {
        "id": "XvOsIwTxStcO"
      },
      "outputs": [],
      "source": [
        "datastock =pd.read_csv('jkse16.csv')\n",
        "datastock"
      ]
    },
    {
      "cell_type": "code",
      "execution_count": null,
      "metadata": {
        "id": "Mtg24wJknwy0"
      },
      "outputs": [],
      "source": [
        "datastock = datastock.drop(['Open','Low','High','Adj Close','Volume'], axis = 'columns')"
      ]
    },
    {
      "cell_type": "code",
      "execution_count": null,
      "metadata": {
        "id": "Oh0Ch4S8oNfX"
      },
      "outputs": [],
      "source": [
        "datastock\n",
        "datastock.shape"
      ]
    },
    {
      "cell_type": "markdown",
      "metadata": {
        "id": "61jrZ6rpTCeS"
      },
      "source": [
        "Pengecekan jumlah data pada harga penutupan saham JKSE"
      ]
    },
    {
      "cell_type": "code",
      "execution_count": null,
      "metadata": {
        "id": "QR-YNcW4z_dF"
      },
      "outputs": [],
      "source": [
        "datastock.count()"
      ]
    },
    {
      "cell_type": "markdown",
      "metadata": {
        "id": "JTj_FAlpTKgA"
      },
      "source": [
        "**Pengecekan nilai null pada dataset**"
      ]
    },
    {
      "cell_type": "code",
      "execution_count": null,
      "metadata": {
        "colab": {
          "base_uri": "https://localhost:8080/"
        },
        "id": "sOonzJZe0CFd",
        "outputId": "cc72d119-929d-40ba-aa38-fa35b2280dc9"
      },
      "outputs": [
        {
          "output_type": "execute_result",
          "data": {
            "text/plain": [
              "Date      0\n",
              "Close    49\n",
              "dtype: int64"
            ]
          },
          "metadata": {},
          "execution_count": 6
        }
      ],
      "source": [
        "datastock.isnull().sum()\n"
      ]
    },
    {
      "cell_type": "markdown",
      "metadata": {
        "id": "UcU-T3VZqgsu"
      },
      "source": [
        "#Imputasi\n",
        "Imputasi pertama menggunakan imputasi **average**, **nilai kosong** pada data **df** akan digantikan dengan nilai rata-rata setiap kolom.\n",
        "\n",
        "Imputasi kedua menggunakan imputasi **most common occurence**, imputasi ini digunakan untuk mengisi data kosong pada variabel kategorikal dengan nilai kategori yang paling sering muncul.\n",
        "\n",
        "Setelah itu akan dicek kembali apakah masih terdapat **data kosong**."
      ]
    },
    {
      "cell_type": "code",
      "execution_count": null,
      "metadata": {
        "colab": {
          "base_uri": "https://localhost:8080/",
          "height": 206
        },
        "outputId": "f45b1564-82ab-40c2-b59b-8b43bc04ff6e",
        "id": "VCGKErC4qgsv"
      },
      "outputs": [
        {
          "output_type": "execute_result",
          "data": {
            "text/plain": [
              "         Date        Close\n",
              "0  2016-01-04  4525.918945\n",
              "1  2016-01-05  4557.821777\n",
              "2  2016-01-06  4608.981934\n",
              "3  2016-01-07  4530.448242\n",
              "4  2016-01-08  4546.288086"
            ],
            "text/html": [
              "\n",
              "  <div id=\"df-92657ffd-531d-40f9-9e0f-0b7d83cf0a04\" class=\"colab-df-container\">\n",
              "    <div>\n",
              "<style scoped>\n",
              "    .dataframe tbody tr th:only-of-type {\n",
              "        vertical-align: middle;\n",
              "    }\n",
              "\n",
              "    .dataframe tbody tr th {\n",
              "        vertical-align: top;\n",
              "    }\n",
              "\n",
              "    .dataframe thead th {\n",
              "        text-align: right;\n",
              "    }\n",
              "</style>\n",
              "<table border=\"1\" class=\"dataframe\">\n",
              "  <thead>\n",
              "    <tr style=\"text-align: right;\">\n",
              "      <th></th>\n",
              "      <th>Date</th>\n",
              "      <th>Close</th>\n",
              "    </tr>\n",
              "  </thead>\n",
              "  <tbody>\n",
              "    <tr>\n",
              "      <th>0</th>\n",
              "      <td>2016-01-04</td>\n",
              "      <td>4525.918945</td>\n",
              "    </tr>\n",
              "    <tr>\n",
              "      <th>1</th>\n",
              "      <td>2016-01-05</td>\n",
              "      <td>4557.821777</td>\n",
              "    </tr>\n",
              "    <tr>\n",
              "      <th>2</th>\n",
              "      <td>2016-01-06</td>\n",
              "      <td>4608.981934</td>\n",
              "    </tr>\n",
              "    <tr>\n",
              "      <th>3</th>\n",
              "      <td>2016-01-07</td>\n",
              "      <td>4530.448242</td>\n",
              "    </tr>\n",
              "    <tr>\n",
              "      <th>4</th>\n",
              "      <td>2016-01-08</td>\n",
              "      <td>4546.288086</td>\n",
              "    </tr>\n",
              "  </tbody>\n",
              "</table>\n",
              "</div>\n",
              "    <div class=\"colab-df-buttons\">\n",
              "\n",
              "  <div class=\"colab-df-container\">\n",
              "    <button class=\"colab-df-convert\" onclick=\"convertToInteractive('df-92657ffd-531d-40f9-9e0f-0b7d83cf0a04')\"\n",
              "            title=\"Convert this dataframe to an interactive table.\"\n",
              "            style=\"display:none;\">\n",
              "\n",
              "  <svg xmlns=\"http://www.w3.org/2000/svg\" height=\"24px\" viewBox=\"0 -960 960 960\">\n",
              "    <path d=\"M120-120v-720h720v720H120Zm60-500h600v-160H180v160Zm220 220h160v-160H400v160Zm0 220h160v-160H400v160ZM180-400h160v-160H180v160Zm440 0h160v-160H620v160ZM180-180h160v-160H180v160Zm440 0h160v-160H620v160Z\"/>\n",
              "  </svg>\n",
              "    </button>\n",
              "\n",
              "  <style>\n",
              "    .colab-df-container {\n",
              "      display:flex;\n",
              "      gap: 12px;\n",
              "    }\n",
              "\n",
              "    .colab-df-convert {\n",
              "      background-color: #E8F0FE;\n",
              "      border: none;\n",
              "      border-radius: 50%;\n",
              "      cursor: pointer;\n",
              "      display: none;\n",
              "      fill: #1967D2;\n",
              "      height: 32px;\n",
              "      padding: 0 0 0 0;\n",
              "      width: 32px;\n",
              "    }\n",
              "\n",
              "    .colab-df-convert:hover {\n",
              "      background-color: #E2EBFA;\n",
              "      box-shadow: 0px 1px 2px rgba(60, 64, 67, 0.3), 0px 1px 3px 1px rgba(60, 64, 67, 0.15);\n",
              "      fill: #174EA6;\n",
              "    }\n",
              "\n",
              "    .colab-df-buttons div {\n",
              "      margin-bottom: 4px;\n",
              "    }\n",
              "\n",
              "    [theme=dark] .colab-df-convert {\n",
              "      background-color: #3B4455;\n",
              "      fill: #D2E3FC;\n",
              "    }\n",
              "\n",
              "    [theme=dark] .colab-df-convert:hover {\n",
              "      background-color: #434B5C;\n",
              "      box-shadow: 0px 1px 3px 1px rgba(0, 0, 0, 0.15);\n",
              "      filter: drop-shadow(0px 1px 2px rgba(0, 0, 0, 0.3));\n",
              "      fill: #FFFFFF;\n",
              "    }\n",
              "  </style>\n",
              "\n",
              "    <script>\n",
              "      const buttonEl =\n",
              "        document.querySelector('#df-92657ffd-531d-40f9-9e0f-0b7d83cf0a04 button.colab-df-convert');\n",
              "      buttonEl.style.display =\n",
              "        google.colab.kernel.accessAllowed ? 'block' : 'none';\n",
              "\n",
              "      async function convertToInteractive(key) {\n",
              "        const element = document.querySelector('#df-92657ffd-531d-40f9-9e0f-0b7d83cf0a04');\n",
              "        const dataTable =\n",
              "          await google.colab.kernel.invokeFunction('convertToInteractive',\n",
              "                                                    [key], {});\n",
              "        if (!dataTable) return;\n",
              "\n",
              "        const docLinkHtml = 'Like what you see? Visit the ' +\n",
              "          '<a target=\"_blank\" href=https://colab.research.google.com/notebooks/data_table.ipynb>data table notebook</a>'\n",
              "          + ' to learn more about interactive tables.';\n",
              "        element.innerHTML = '';\n",
              "        dataTable['output_type'] = 'display_data';\n",
              "        await google.colab.output.renderOutput(dataTable, element);\n",
              "        const docLink = document.createElement('div');\n",
              "        docLink.innerHTML = docLinkHtml;\n",
              "        element.appendChild(docLink);\n",
              "      }\n",
              "    </script>\n",
              "  </div>\n",
              "\n",
              "\n",
              "<div id=\"df-0dfe36df-de2c-4f43-af86-54fcfdb77090\">\n",
              "  <button class=\"colab-df-quickchart\" onclick=\"quickchart('df-0dfe36df-de2c-4f43-af86-54fcfdb77090')\"\n",
              "            title=\"Suggest charts\"\n",
              "            style=\"display:none;\">\n",
              "\n",
              "<svg xmlns=\"http://www.w3.org/2000/svg\" height=\"24px\"viewBox=\"0 0 24 24\"\n",
              "     width=\"24px\">\n",
              "    <g>\n",
              "        <path d=\"M19 3H5c-1.1 0-2 .9-2 2v14c0 1.1.9 2 2 2h14c1.1 0 2-.9 2-2V5c0-1.1-.9-2-2-2zM9 17H7v-7h2v7zm4 0h-2V7h2v10zm4 0h-2v-4h2v4z\"/>\n",
              "    </g>\n",
              "</svg>\n",
              "  </button>\n",
              "\n",
              "<style>\n",
              "  .colab-df-quickchart {\n",
              "      --bg-color: #E8F0FE;\n",
              "      --fill-color: #1967D2;\n",
              "      --hover-bg-color: #E2EBFA;\n",
              "      --hover-fill-color: #174EA6;\n",
              "      --disabled-fill-color: #AAA;\n",
              "      --disabled-bg-color: #DDD;\n",
              "  }\n",
              "\n",
              "  [theme=dark] .colab-df-quickchart {\n",
              "      --bg-color: #3B4455;\n",
              "      --fill-color: #D2E3FC;\n",
              "      --hover-bg-color: #434B5C;\n",
              "      --hover-fill-color: #FFFFFF;\n",
              "      --disabled-bg-color: #3B4455;\n",
              "      --disabled-fill-color: #666;\n",
              "  }\n",
              "\n",
              "  .colab-df-quickchart {\n",
              "    background-color: var(--bg-color);\n",
              "    border: none;\n",
              "    border-radius: 50%;\n",
              "    cursor: pointer;\n",
              "    display: none;\n",
              "    fill: var(--fill-color);\n",
              "    height: 32px;\n",
              "    padding: 0;\n",
              "    width: 32px;\n",
              "  }\n",
              "\n",
              "  .colab-df-quickchart:hover {\n",
              "    background-color: var(--hover-bg-color);\n",
              "    box-shadow: 0 1px 2px rgba(60, 64, 67, 0.3), 0 1px 3px 1px rgba(60, 64, 67, 0.15);\n",
              "    fill: var(--button-hover-fill-color);\n",
              "  }\n",
              "\n",
              "  .colab-df-quickchart-complete:disabled,\n",
              "  .colab-df-quickchart-complete:disabled:hover {\n",
              "    background-color: var(--disabled-bg-color);\n",
              "    fill: var(--disabled-fill-color);\n",
              "    box-shadow: none;\n",
              "  }\n",
              "\n",
              "  .colab-df-spinner {\n",
              "    border: 2px solid var(--fill-color);\n",
              "    border-color: transparent;\n",
              "    border-bottom-color: var(--fill-color);\n",
              "    animation:\n",
              "      spin 1s steps(1) infinite;\n",
              "  }\n",
              "\n",
              "  @keyframes spin {\n",
              "    0% {\n",
              "      border-color: transparent;\n",
              "      border-bottom-color: var(--fill-color);\n",
              "      border-left-color: var(--fill-color);\n",
              "    }\n",
              "    20% {\n",
              "      border-color: transparent;\n",
              "      border-left-color: var(--fill-color);\n",
              "      border-top-color: var(--fill-color);\n",
              "    }\n",
              "    30% {\n",
              "      border-color: transparent;\n",
              "      border-left-color: var(--fill-color);\n",
              "      border-top-color: var(--fill-color);\n",
              "      border-right-color: var(--fill-color);\n",
              "    }\n",
              "    40% {\n",
              "      border-color: transparent;\n",
              "      border-right-color: var(--fill-color);\n",
              "      border-top-color: var(--fill-color);\n",
              "    }\n",
              "    60% {\n",
              "      border-color: transparent;\n",
              "      border-right-color: var(--fill-color);\n",
              "    }\n",
              "    80% {\n",
              "      border-color: transparent;\n",
              "      border-right-color: var(--fill-color);\n",
              "      border-bottom-color: var(--fill-color);\n",
              "    }\n",
              "    90% {\n",
              "      border-color: transparent;\n",
              "      border-bottom-color: var(--fill-color);\n",
              "    }\n",
              "  }\n",
              "</style>\n",
              "\n",
              "  <script>\n",
              "    async function quickchart(key) {\n",
              "      const quickchartButtonEl =\n",
              "        document.querySelector('#' + key + ' button');\n",
              "      quickchartButtonEl.disabled = true;  // To prevent multiple clicks.\n",
              "      quickchartButtonEl.classList.add('colab-df-spinner');\n",
              "      try {\n",
              "        const charts = await google.colab.kernel.invokeFunction(\n",
              "            'suggestCharts', [key], {});\n",
              "      } catch (error) {\n",
              "        console.error('Error during call to suggestCharts:', error);\n",
              "      }\n",
              "      quickchartButtonEl.classList.remove('colab-df-spinner');\n",
              "      quickchartButtonEl.classList.add('colab-df-quickchart-complete');\n",
              "    }\n",
              "    (() => {\n",
              "      let quickchartButtonEl =\n",
              "        document.querySelector('#df-0dfe36df-de2c-4f43-af86-54fcfdb77090 button');\n",
              "      quickchartButtonEl.style.display =\n",
              "        google.colab.kernel.accessAllowed ? 'block' : 'none';\n",
              "    })();\n",
              "  </script>\n",
              "</div>\n",
              "    </div>\n",
              "  </div>\n"
            ],
            "application/vnd.google.colaboratory.intrinsic+json": {
              "type": "dataframe",
              "variable_name": "datastock",
              "summary": "{\n  \"name\": \"datastock\",\n  \"rows\": 1019,\n  \"fields\": [\n    {\n      \"column\": \"Date\",\n      \"properties\": {\n        \"dtype\": \"object\",\n        \"num_unique_values\": 1019,\n        \"samples\": [\n          \"2018-01-31\",\n          \"2017-10-26\",\n          \"2017-10-06\"\n        ],\n        \"semantic_type\": \"\",\n        \"description\": \"\"\n      }\n    },\n    {\n      \"column\": \"Close\",\n      \"properties\": {\n        \"dtype\": \"number\",\n        \"std\": 530.6063646607959,\n        \"min\": 4414.125977,\n        \"max\": 6689.287109,\n        \"num_unique_values\": 970,\n        \"samples\": [\n          5947.154785,\n          5298.948242,\n          5824.006836\n        ],\n        \"semantic_type\": \"\",\n        \"description\": \"\"\n      }\n    }\n  ]\n}"
            }
          },
          "metadata": {},
          "execution_count": 7
        }
      ],
      "source": [
        "datastock.reset_index(drop=True, inplace=True)\n",
        "datastock['Close'] = pd.to_numeric(datastock['Close'], errors='coerce')\n",
        "datastock.fillna(datastock['Close'].mean(), inplace=True)\n",
        "datastock.head()"
      ]
    },
    {
      "cell_type": "code",
      "execution_count": null,
      "metadata": {
        "colab": {
          "base_uri": "https://localhost:8080/"
        },
        "outputId": "a89db8f4-9460-4ea0-9cf6-fdfa27140a18",
        "id": "C2UBeqylqgsw"
      },
      "outputs": [
        {
          "output_type": "stream",
          "name": "stdout",
          "text": [
            "<class 'pandas.core.frame.DataFrame'>\n",
            "RangeIndex: 1019 entries, 0 to 1018\n",
            "Data columns (total 2 columns):\n",
            " #   Column  Non-Null Count  Dtype  \n",
            "---  ------  --------------  -----  \n",
            " 0   Date    1019 non-null   object \n",
            " 1   Close   1019 non-null   float64\n",
            "dtypes: float64(1), object(1)\n",
            "memory usage: 16.0+ KB\n"
          ]
        }
      ],
      "source": [
        "datastock.info()"
      ]
    },
    {
      "cell_type": "code",
      "source": [
        "datastock"
      ],
      "metadata": {
        "colab": {
          "base_uri": "https://localhost:8080/",
          "height": 424
        },
        "id": "dtxAL-guXyF-",
        "outputId": "2c7d59cd-e09c-4cca-f6d3-f3633753e996"
      },
      "execution_count": null,
      "outputs": [
        {
          "output_type": "execute_result",
          "data": {
            "text/plain": [
              "            Date        Close\n",
              "0     2016-01-04  4525.918945\n",
              "1     2016-01-05  4557.821777\n",
              "2     2016-01-06  4608.981934\n",
              "3     2016-01-07  4530.448242\n",
              "4     2016-01-08  4546.288086\n",
              "...          ...          ...\n",
              "1014  2019-12-20  6284.372070\n",
              "1015  2019-12-23  6305.910156\n",
              "1016  2019-12-26  6319.442871\n",
              "1017  2019-12-27  6329.313965\n",
              "1018  2019-12-30  6299.539063\n",
              "\n",
              "[1019 rows x 2 columns]"
            ],
            "text/html": [
              "\n",
              "  <div id=\"df-d45c7f14-f510-49cc-8d1e-e42989dfd15f\" class=\"colab-df-container\">\n",
              "    <div>\n",
              "<style scoped>\n",
              "    .dataframe tbody tr th:only-of-type {\n",
              "        vertical-align: middle;\n",
              "    }\n",
              "\n",
              "    .dataframe tbody tr th {\n",
              "        vertical-align: top;\n",
              "    }\n",
              "\n",
              "    .dataframe thead th {\n",
              "        text-align: right;\n",
              "    }\n",
              "</style>\n",
              "<table border=\"1\" class=\"dataframe\">\n",
              "  <thead>\n",
              "    <tr style=\"text-align: right;\">\n",
              "      <th></th>\n",
              "      <th>Date</th>\n",
              "      <th>Close</th>\n",
              "    </tr>\n",
              "  </thead>\n",
              "  <tbody>\n",
              "    <tr>\n",
              "      <th>0</th>\n",
              "      <td>2016-01-04</td>\n",
              "      <td>4525.918945</td>\n",
              "    </tr>\n",
              "    <tr>\n",
              "      <th>1</th>\n",
              "      <td>2016-01-05</td>\n",
              "      <td>4557.821777</td>\n",
              "    </tr>\n",
              "    <tr>\n",
              "      <th>2</th>\n",
              "      <td>2016-01-06</td>\n",
              "      <td>4608.981934</td>\n",
              "    </tr>\n",
              "    <tr>\n",
              "      <th>3</th>\n",
              "      <td>2016-01-07</td>\n",
              "      <td>4530.448242</td>\n",
              "    </tr>\n",
              "    <tr>\n",
              "      <th>4</th>\n",
              "      <td>2016-01-08</td>\n",
              "      <td>4546.288086</td>\n",
              "    </tr>\n",
              "    <tr>\n",
              "      <th>...</th>\n",
              "      <td>...</td>\n",
              "      <td>...</td>\n",
              "    </tr>\n",
              "    <tr>\n",
              "      <th>1014</th>\n",
              "      <td>2019-12-20</td>\n",
              "      <td>6284.372070</td>\n",
              "    </tr>\n",
              "    <tr>\n",
              "      <th>1015</th>\n",
              "      <td>2019-12-23</td>\n",
              "      <td>6305.910156</td>\n",
              "    </tr>\n",
              "    <tr>\n",
              "      <th>1016</th>\n",
              "      <td>2019-12-26</td>\n",
              "      <td>6319.442871</td>\n",
              "    </tr>\n",
              "    <tr>\n",
              "      <th>1017</th>\n",
              "      <td>2019-12-27</td>\n",
              "      <td>6329.313965</td>\n",
              "    </tr>\n",
              "    <tr>\n",
              "      <th>1018</th>\n",
              "      <td>2019-12-30</td>\n",
              "      <td>6299.539063</td>\n",
              "    </tr>\n",
              "  </tbody>\n",
              "</table>\n",
              "<p>1019 rows × 2 columns</p>\n",
              "</div>\n",
              "    <div class=\"colab-df-buttons\">\n",
              "\n",
              "  <div class=\"colab-df-container\">\n",
              "    <button class=\"colab-df-convert\" onclick=\"convertToInteractive('df-d45c7f14-f510-49cc-8d1e-e42989dfd15f')\"\n",
              "            title=\"Convert this dataframe to an interactive table.\"\n",
              "            style=\"display:none;\">\n",
              "\n",
              "  <svg xmlns=\"http://www.w3.org/2000/svg\" height=\"24px\" viewBox=\"0 -960 960 960\">\n",
              "    <path d=\"M120-120v-720h720v720H120Zm60-500h600v-160H180v160Zm220 220h160v-160H400v160Zm0 220h160v-160H400v160ZM180-400h160v-160H180v160Zm440 0h160v-160H620v160ZM180-180h160v-160H180v160Zm440 0h160v-160H620v160Z\"/>\n",
              "  </svg>\n",
              "    </button>\n",
              "\n",
              "  <style>\n",
              "    .colab-df-container {\n",
              "      display:flex;\n",
              "      gap: 12px;\n",
              "    }\n",
              "\n",
              "    .colab-df-convert {\n",
              "      background-color: #E8F0FE;\n",
              "      border: none;\n",
              "      border-radius: 50%;\n",
              "      cursor: pointer;\n",
              "      display: none;\n",
              "      fill: #1967D2;\n",
              "      height: 32px;\n",
              "      padding: 0 0 0 0;\n",
              "      width: 32px;\n",
              "    }\n",
              "\n",
              "    .colab-df-convert:hover {\n",
              "      background-color: #E2EBFA;\n",
              "      box-shadow: 0px 1px 2px rgba(60, 64, 67, 0.3), 0px 1px 3px 1px rgba(60, 64, 67, 0.15);\n",
              "      fill: #174EA6;\n",
              "    }\n",
              "\n",
              "    .colab-df-buttons div {\n",
              "      margin-bottom: 4px;\n",
              "    }\n",
              "\n",
              "    [theme=dark] .colab-df-convert {\n",
              "      background-color: #3B4455;\n",
              "      fill: #D2E3FC;\n",
              "    }\n",
              "\n",
              "    [theme=dark] .colab-df-convert:hover {\n",
              "      background-color: #434B5C;\n",
              "      box-shadow: 0px 1px 3px 1px rgba(0, 0, 0, 0.15);\n",
              "      filter: drop-shadow(0px 1px 2px rgba(0, 0, 0, 0.3));\n",
              "      fill: #FFFFFF;\n",
              "    }\n",
              "  </style>\n",
              "\n",
              "    <script>\n",
              "      const buttonEl =\n",
              "        document.querySelector('#df-d45c7f14-f510-49cc-8d1e-e42989dfd15f button.colab-df-convert');\n",
              "      buttonEl.style.display =\n",
              "        google.colab.kernel.accessAllowed ? 'block' : 'none';\n",
              "\n",
              "      async function convertToInteractive(key) {\n",
              "        const element = document.querySelector('#df-d45c7f14-f510-49cc-8d1e-e42989dfd15f');\n",
              "        const dataTable =\n",
              "          await google.colab.kernel.invokeFunction('convertToInteractive',\n",
              "                                                    [key], {});\n",
              "        if (!dataTable) return;\n",
              "\n",
              "        const docLinkHtml = 'Like what you see? Visit the ' +\n",
              "          '<a target=\"_blank\" href=https://colab.research.google.com/notebooks/data_table.ipynb>data table notebook</a>'\n",
              "          + ' to learn more about interactive tables.';\n",
              "        element.innerHTML = '';\n",
              "        dataTable['output_type'] = 'display_data';\n",
              "        await google.colab.output.renderOutput(dataTable, element);\n",
              "        const docLink = document.createElement('div');\n",
              "        docLink.innerHTML = docLinkHtml;\n",
              "        element.appendChild(docLink);\n",
              "      }\n",
              "    </script>\n",
              "  </div>\n",
              "\n",
              "\n",
              "<div id=\"df-f993b5fc-57e9-40a5-8cf2-24b25c50ecdf\">\n",
              "  <button class=\"colab-df-quickchart\" onclick=\"quickchart('df-f993b5fc-57e9-40a5-8cf2-24b25c50ecdf')\"\n",
              "            title=\"Suggest charts\"\n",
              "            style=\"display:none;\">\n",
              "\n",
              "<svg xmlns=\"http://www.w3.org/2000/svg\" height=\"24px\"viewBox=\"0 0 24 24\"\n",
              "     width=\"24px\">\n",
              "    <g>\n",
              "        <path d=\"M19 3H5c-1.1 0-2 .9-2 2v14c0 1.1.9 2 2 2h14c1.1 0 2-.9 2-2V5c0-1.1-.9-2-2-2zM9 17H7v-7h2v7zm4 0h-2V7h2v10zm4 0h-2v-4h2v4z\"/>\n",
              "    </g>\n",
              "</svg>\n",
              "  </button>\n",
              "\n",
              "<style>\n",
              "  .colab-df-quickchart {\n",
              "      --bg-color: #E8F0FE;\n",
              "      --fill-color: #1967D2;\n",
              "      --hover-bg-color: #E2EBFA;\n",
              "      --hover-fill-color: #174EA6;\n",
              "      --disabled-fill-color: #AAA;\n",
              "      --disabled-bg-color: #DDD;\n",
              "  }\n",
              "\n",
              "  [theme=dark] .colab-df-quickchart {\n",
              "      --bg-color: #3B4455;\n",
              "      --fill-color: #D2E3FC;\n",
              "      --hover-bg-color: #434B5C;\n",
              "      --hover-fill-color: #FFFFFF;\n",
              "      --disabled-bg-color: #3B4455;\n",
              "      --disabled-fill-color: #666;\n",
              "  }\n",
              "\n",
              "  .colab-df-quickchart {\n",
              "    background-color: var(--bg-color);\n",
              "    border: none;\n",
              "    border-radius: 50%;\n",
              "    cursor: pointer;\n",
              "    display: none;\n",
              "    fill: var(--fill-color);\n",
              "    height: 32px;\n",
              "    padding: 0;\n",
              "    width: 32px;\n",
              "  }\n",
              "\n",
              "  .colab-df-quickchart:hover {\n",
              "    background-color: var(--hover-bg-color);\n",
              "    box-shadow: 0 1px 2px rgba(60, 64, 67, 0.3), 0 1px 3px 1px rgba(60, 64, 67, 0.15);\n",
              "    fill: var(--button-hover-fill-color);\n",
              "  }\n",
              "\n",
              "  .colab-df-quickchart-complete:disabled,\n",
              "  .colab-df-quickchart-complete:disabled:hover {\n",
              "    background-color: var(--disabled-bg-color);\n",
              "    fill: var(--disabled-fill-color);\n",
              "    box-shadow: none;\n",
              "  }\n",
              "\n",
              "  .colab-df-spinner {\n",
              "    border: 2px solid var(--fill-color);\n",
              "    border-color: transparent;\n",
              "    border-bottom-color: var(--fill-color);\n",
              "    animation:\n",
              "      spin 1s steps(1) infinite;\n",
              "  }\n",
              "\n",
              "  @keyframes spin {\n",
              "    0% {\n",
              "      border-color: transparent;\n",
              "      border-bottom-color: var(--fill-color);\n",
              "      border-left-color: var(--fill-color);\n",
              "    }\n",
              "    20% {\n",
              "      border-color: transparent;\n",
              "      border-left-color: var(--fill-color);\n",
              "      border-top-color: var(--fill-color);\n",
              "    }\n",
              "    30% {\n",
              "      border-color: transparent;\n",
              "      border-left-color: var(--fill-color);\n",
              "      border-top-color: var(--fill-color);\n",
              "      border-right-color: var(--fill-color);\n",
              "    }\n",
              "    40% {\n",
              "      border-color: transparent;\n",
              "      border-right-color: var(--fill-color);\n",
              "      border-top-color: var(--fill-color);\n",
              "    }\n",
              "    60% {\n",
              "      border-color: transparent;\n",
              "      border-right-color: var(--fill-color);\n",
              "    }\n",
              "    80% {\n",
              "      border-color: transparent;\n",
              "      border-right-color: var(--fill-color);\n",
              "      border-bottom-color: var(--fill-color);\n",
              "    }\n",
              "    90% {\n",
              "      border-color: transparent;\n",
              "      border-bottom-color: var(--fill-color);\n",
              "    }\n",
              "  }\n",
              "</style>\n",
              "\n",
              "  <script>\n",
              "    async function quickchart(key) {\n",
              "      const quickchartButtonEl =\n",
              "        document.querySelector('#' + key + ' button');\n",
              "      quickchartButtonEl.disabled = true;  // To prevent multiple clicks.\n",
              "      quickchartButtonEl.classList.add('colab-df-spinner');\n",
              "      try {\n",
              "        const charts = await google.colab.kernel.invokeFunction(\n",
              "            'suggestCharts', [key], {});\n",
              "      } catch (error) {\n",
              "        console.error('Error during call to suggestCharts:', error);\n",
              "      }\n",
              "      quickchartButtonEl.classList.remove('colab-df-spinner');\n",
              "      quickchartButtonEl.classList.add('colab-df-quickchart-complete');\n",
              "    }\n",
              "    (() => {\n",
              "      let quickchartButtonEl =\n",
              "        document.querySelector('#df-f993b5fc-57e9-40a5-8cf2-24b25c50ecdf button');\n",
              "      quickchartButtonEl.style.display =\n",
              "        google.colab.kernel.accessAllowed ? 'block' : 'none';\n",
              "    })();\n",
              "  </script>\n",
              "</div>\n",
              "    </div>\n",
              "  </div>\n"
            ],
            "application/vnd.google.colaboratory.intrinsic+json": {
              "type": "dataframe",
              "variable_name": "datastock",
              "summary": "{\n  \"name\": \"datastock\",\n  \"rows\": 1019,\n  \"fields\": [\n    {\n      \"column\": \"Date\",\n      \"properties\": {\n        \"dtype\": \"object\",\n        \"num_unique_values\": 1019,\n        \"samples\": [\n          \"2018-01-31\",\n          \"2017-10-26\",\n          \"2017-10-06\"\n        ],\n        \"semantic_type\": \"\",\n        \"description\": \"\"\n      }\n    },\n    {\n      \"column\": \"Close\",\n      \"properties\": {\n        \"dtype\": \"number\",\n        \"std\": 530.6063646607959,\n        \"min\": 4414.125977,\n        \"max\": 6689.287109,\n        \"num_unique_values\": 970,\n        \"samples\": [\n          5947.154785,\n          5298.948242,\n          5824.006836\n        ],\n        \"semantic_type\": \"\",\n        \"description\": \"\"\n      }\n    }\n  ]\n}"
            }
          },
          "metadata": {},
          "execution_count": 9
        }
      ]
    },
    {
      "cell_type": "markdown",
      "source": [],
      "metadata": {
        "id": "1BPvvQpSXx32"
      }
    },
    {
      "cell_type": "markdown",
      "metadata": {
        "id": "2ZlPf4A7qgs1"
      },
      "source": [
        "Ubah tipe data object ke datetime"
      ]
    },
    {
      "cell_type": "markdown",
      "metadata": {
        "id": "dzI3HitITYaS"
      },
      "source": [
        "# Data Visualisasi"
      ]
    },
    {
      "cell_type": "code",
      "execution_count": null,
      "metadata": {
        "colab": {
          "base_uri": "https://localhost:8080/"
        },
        "id": "rUidINY01ziu",
        "outputId": "b22c9fa0-6983-454c-ae62-3a54a0f5186c"
      },
      "outputs": [
        {
          "output_type": "display_data",
          "data": {
            "text/plain": [
              "<Figure size 1200x600 with 1 Axes>"
            ],
            "image/png": "[encoded data removed]"
          },
          "metadata": {}
        }
      ],
      "source": [
        "plt.figure(figsize=(12, 6))\n",
        "plt.plot(datastock['Date'], datastock['Close'], label='Historical Close Price')\n",
        "\n",
        "# Format x-axis ticks to show years\n",
        "plt.gca().xaxis.set_major_formatter(mdates.DateFormatter('%Y'))\n",
        "plt.gca().xaxis.set_major_locator(mdates.YearLocator())\n",
        "\n",
        "plt.xlabel('Year')\n",
        "plt.ylabel('Close Price')\n",
        "plt.title('Historical IHSG Close Price')\n",
        "plt.legend()\n",
        "plt.show()"
      ]
    },
    {
      "cell_type": "markdown",
      "metadata": {
        "id": "0gEiZwbGjXI6"
      },
      "source": [
        "# Normalisasi Data dan Proses Pengubahan tipe data menjadi Numpy Array"
      ]
    },
    {
      "cell_type": "code",
      "execution_count": null,
      "metadata": {
        "id": "GaBgKyI4Xqj_"
      },
      "outputs": [],
      "source": [
        "# Mengubah data menjadi tipe numpy array\n",
        "harga = datastock['Close'].values.reshape(-1, 1)"
      ]
    },
    {
      "cell_type": "code",
      "execution_count": null,
      "metadata": {
        "id": "FNCMKZlEjb8Z"
      },
      "outputs": [],
      "source": [
        "# Normalisasi data menggunakan MinMaxScaler\n",
        "scaler = MinMaxScaler(feature_range=(0, 1))\n",
        "scaled_data = scaler.fit_transform(harga)"
      ]
    },
    {
      "cell_type": "code",
      "execution_count": null,
      "metadata": {
        "id": "k2jEsWnaoSFw"
      },
      "outputs": [],
      "source": [
        "def prepare_datastock(datastock, time_steps):\n",
        "    X, y = [], []\n",
        "    for i in range(len(datastock) - time_steps - 1):\n",
        "        X.append(datastock[i:(i + time_steps), 0])\n",
        "        y.append(datastock[i + time_steps, 0])\n",
        "    return np.array(X), np.array(y)"
      ]
    },
    {
      "cell_type": "code",
      "execution_count": null,
      "metadata": {
        "id": "y0INcbh7oUkC"
      },
      "outputs": [],
      "source": [
        "time_steps = 20\n",
        "X, y = prepare_datastock(scaled_data, time_steps)"
      ]
    },
    {
      "cell_type": "markdown",
      "metadata": {
        "id": "4mQKwhklTpSh"
      },
      "source": [
        "# Data processing\n",
        "data splitting (training dan testing), dan data scalling"
      ]
    },
    {
      "cell_type": "markdown",
      "metadata": {
        "id": "uuxf_ujHUJJ6"
      },
      "source": [
        "**Data Splitting (80% training dan 20% testing)**"
      ]
    },
    {
      "cell_type": "code",
      "execution_count": null,
      "metadata": {
        "id": "wktehna41987"
      },
      "outputs": [],
      "source": [
        "train_size = int(len(X) * 0.8)\n",
        "X_train, X_test = X[:train_size], X[train_size:]\n",
        "y_train, y_test = y[:train_size], y[train_size:]"
      ]
    },
    {
      "cell_type": "markdown",
      "metadata": {
        "id": "lOBRoFidorDd"
      },
      "source": [
        "**Reshaping data agar sesuai dengan input LSTM **"
      ]
    },
    {
      "cell_type": "code",
      "execution_count": null,
      "metadata": {
        "id": "_goh1bjKtOOT"
      },
      "outputs": [],
      "source": [
        "X_train = X_train.reshape(X_train.shape[0], X_train.shape[1], 1)\n",
        "X_test = X_test.reshape(X_test.shape[0], X_test.shape[1], 1)"
      ]
    },
    {
      "cell_type": "markdown",
      "metadata": {
        "id": "qY7bRNXyUPuz"
      },
      "source": [
        "**Data scalling / feature scalling**"
      ]
    },
    {
      "cell_type": "markdown",
      "metadata": {
        "id": "nBZJ0TQEVKax"
      },
      "source": [
        "# Long Short Term Memory Model"
      ]
    },
    {
      "cell_type": "markdown",
      "metadata": {
        "id": "cs7Z5JWNVRhB"
      },
      "source": [
        "Pada cell ini akan menggunakan ADAM Optimizer, dense layer"
      ]
    },
    {
      "cell_type": "code",
      "execution_count": null,
      "metadata": {
        "id": "VlvzkBe02ItA"
      },
      "outputs": [],
      "source": [
        "model = Sequential()\n",
        "model.add(LSTM(units=50, return_sequences=True, input_shape=(X_train.shape[1], 1)))\n",
        "model.add(Dropout(0.2))\n",
        "model.add(LSTM(units=50, return_sequences=True))\n",
        "model.add(Dropout(0.2))\n",
        "model.add(LSTM(units=50))\n",
        "model.add(Dropout(0.2))\n",
        "model.add(Dense(units=1))\n"
      ]
    },
    {
      "cell_type": "code",
      "execution_count": null,
      "metadata": {
        "colab": {
          "base_uri": "https://localhost:8080/"
        },
        "id": "r5jUqtb22N7t",
        "outputId": "5594d49b-2aac-4a7e-dfa3-7c8a888eb3d7"
      },
      "outputs": [
        {
          "output_type": "stream",
          "name": "stderr",
          "text": [
            "WARNING:absl:`lr` is deprecated in Keras optimizer, please use `learning_rate` or use the legacy optimizer, e.g.,tf.keras.optimizers.legacy.Adam.\n"
          ]
        },
        {
          "output_type": "stream",
          "name": "stdout",
          "text": [
            "Epoch 1/40\n",
            "40/40 [==============================] - 8s 27ms/step - loss: 0.0427\n",
            "Epoch 2/40\n",
            "40/40 [==============================] - 1s 27ms/step - loss: 0.0085\n",
            "Epoch 3/40\n",
            "40/40 [==============================] - 1s 27ms/step - loss: 0.0072\n",
            "Epoch 4/40\n",
            "40/40 [==============================] - 1s 26ms/step - loss: 0.0075\n",
            "Epoch 5/40\n",
            "40/40 [==============================] - 1s 27ms/step - loss: 0.0067\n",
            "Epoch 6/40\n",
            "40/40 [==============================] - 1s 27ms/step - loss: 0.0080\n",
            "Epoch 7/40\n",
            "40/40 [==============================] - 1s 27ms/step - loss: 0.0067\n",
            "Epoch 8/40\n",
            "40/40 [==============================] - 1s 27ms/step - loss: 0.0063\n",
            "Epoch 9/40\n",
            "40/40 [==============================] - 1s 28ms/step - loss: 0.0062\n",
            "Epoch 10/40\n",
            "40/40 [==============================] - 2s 39ms/step - loss: 0.0060\n",
            "Epoch 11/40\n",
            "40/40 [==============================] - 2s 40ms/step - loss: 0.0058\n",
            "Epoch 12/40\n",
            "40/40 [==============================] - 1s 29ms/step - loss: 0.0061\n",
            "Epoch 13/40\n",
            "40/40 [==============================] - 1s 26ms/step - loss: 0.0056\n",
            "Epoch 14/40\n",
            "40/40 [==============================] - 1s 27ms/step - loss: 0.0057\n",
            "Epoch 15/40\n",
            "40/40 [==============================] - 1s 27ms/step - loss: 0.0057\n",
            "Epoch 16/40\n",
            "40/40 [==============================] - 1s 27ms/step - loss: 0.0058\n",
            "Epoch 17/40\n",
            "40/40 [==============================] - 1s 27ms/step - loss: 0.0053\n",
            "Epoch 18/40\n",
            "40/40 [==============================] - 1s 27ms/step - loss: 0.0053\n",
            "Epoch 19/40\n",
            "40/40 [==============================] - 1s 27ms/step - loss: 0.0049\n",
            "Epoch 20/40\n",
            "40/40 [==============================] - 1s 27ms/step - loss: 0.0056\n",
            "Epoch 21/40\n",
            "40/40 [==============================] - 1s 35ms/step - loss: 0.0051\n",
            "Epoch 22/40\n",
            "40/40 [==============================] - 2s 40ms/step - loss: 0.0052\n",
            "Epoch 23/40\n",
            "40/40 [==============================] - 1s 34ms/step - loss: 0.0043\n",
            "Epoch 24/40\n",
            "40/40 [==============================] - 1s 27ms/step - loss: 0.0047\n",
            "Epoch 25/40\n",
            "40/40 [==============================] - 1s 26ms/step - loss: 0.0051\n",
            "Epoch 26/40\n",
            "40/40 [==============================] - 1s 27ms/step - loss: 0.0050\n",
            "Epoch 27/40\n",
            "40/40 [==============================] - 1s 27ms/step - loss: 0.0045\n",
            "Epoch 28/40\n",
            "40/40 [==============================] - 1s 27ms/step - loss: 0.0046\n",
            "Epoch 29/40\n",
            "40/40 [==============================] - 1s 27ms/step - loss: 0.0048\n",
            "Epoch 30/40\n",
            "40/40 [==============================] - 1s 27ms/step - loss: 0.0046\n",
            "Epoch 31/40\n",
            "40/40 [==============================] - 1s 26ms/step - loss: 0.0048\n",
            "Epoch 32/40\n",
            "40/40 [==============================] - 1s 31ms/step - loss: 0.0045\n",
            "Epoch 33/40\n",
            "40/40 [==============================] - 2s 40ms/step - loss: 0.0047\n",
            "Epoch 34/40\n",
            "40/40 [==============================] - 2s 40ms/step - loss: 0.0040\n",
            "Epoch 35/40\n",
            "40/40 [==============================] - 1s 27ms/step - loss: 0.0038\n",
            "Epoch 36/40\n",
            "40/40 [==============================] - 1s 27ms/step - loss: 0.0044\n",
            "Epoch 37/40\n",
            "40/40 [==============================] - 1s 26ms/step - loss: 0.0039\n",
            "Epoch 38/40\n",
            "40/40 [==============================] - 1s 26ms/step - loss: 0.0046\n",
            "Epoch 39/40\n",
            "40/40 [==============================] - 1s 26ms/step - loss: 0.0041\n",
            "Epoch 40/40\n",
            "40/40 [==============================] - 1s 26ms/step - loss: 0.0037\n"
          ]
        },
        {
          "output_type": "execute_result",
          "data": {
            "text/plain": [
              "<keras.src.callbacks.History at 0x79612acaad70>"
            ]
          },
          "metadata": {},
          "execution_count": 168
        }
      ],
      "source": [
        "model.compile(optimizer=  Adam (lr=0.001), loss='mean_squared_error')\n",
        "model.fit(X_train, y_train, batch_size=20 , epochs=40)"
      ]
    },
    {
      "cell_type": "code",
      "execution_count": null,
      "metadata": {
        "colab": {
          "base_uri": "https://localhost:8080/"
        },
        "id": "nJfV9dfd36wh",
        "outputId": "2027b9cb-6f99-48e8-eab7-94542eee6eb0"
      },
      "outputs": [
        {
          "output_type": "stream",
          "name": "stdout",
          "text": [
            "7/7 [==============================] - 1s 8ms/step\n"
          ]
        },
        {
          "output_type": "execute_result",
          "data": {
            "text/plain": [
              "4.813220968864366"
            ]
          },
          "metadata": {},
          "execution_count": 169
        }
      ],
      "source": [
        "predicted_stock_price = model.predict(X_test)\n",
        "predicted_stock_price = scaler.inverse_transform(predicted_stock_price)\n",
        "y_test = scaler.inverse_transform(y_test.reshape(-1, 1))\n",
        "rmse = np.sqrt(np.mean(predicted_stock_price - y_test)**2)\n",
        "rmse"
      ]
    },
    {
      "cell_type": "code",
      "execution_count": null,
      "metadata": {
        "colab": {
          "base_uri": "https://localhost:8080/"
        },
        "id": "IkT9s2n5s8Y4",
        "outputId": "b725fd73-da6d-4bf1-9e06-c698a78814c7"
      },
      "outputs": [
        {
          "output_type": "display_data",
          "data": {
            "text/plain": [
              "<Figure size 1000x600 with 1 Axes>"
            ],
            "image/png": "[encoded data removed]"
          },
          "metadata": {}
        }
      ],
      "source": [
        "plt.figure(figsize=(10, 6))\n",
        "plt.plot(y_test, color='blue', label='Actual Stock Price')\n",
        "plt.plot(predicted_stock_price, color='red', label='Predicted Stock Price')\n",
        "plt.title('IHSG Stock Price Prediction using LSTM')\n",
        "plt.xlabel('Time')\n",
        "plt.ylabel('Stock Price')\n",
        "plt.legend()\n",
        "plt.show()"
      ]
    }
  ],
  "metadata": {
    "colab": {
      "provenance": [],
      "collapsed_sections": [
        "cONb9whVTirk",
        "UcU-T3VZqgsu",
        "dzI3HitITYaS",
        "0gEiZwbGjXI6",
        "4mQKwhklTpSh"
      ],
      "authorship_tag": "ABX9TyOWIHHX5eLawX5Vv+bFaDVs",
      "include_colab_link": true
    },
    "kernelspec": {
      "display_name": "Python 3",
      "name": "python3"
    },
    "language_info": {
      "name": "python"
    }
  },
  "nbformat": 4,
  "nbformat_minor": 0
}